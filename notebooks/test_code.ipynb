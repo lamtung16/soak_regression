{
 "cells": [
  {
   "cell_type": "code",
   "execution_count": 1,
   "id": "1155b922",
   "metadata": {},
   "outputs": [],
   "source": [
    "import pandas as pd\n",
    "import numpy as np\n",
    "import sys\n",
    "from sklearn.metrics import mean_squared_error, mean_absolute_error\n",
    "from sklearn.preprocessing import PolynomialFeatures, MinMaxScaler, FunctionTransformer, StandardScaler\n",
    "from sklearn.linear_model import Lasso\n",
    "from sklearn.model_selection import GridSearchCV, KFold\n",
    "from sklearn.pipeline import Pipeline, FeatureUnion\n",
    "from sklearn.linear_model import LassoCV\n",
    "\n",
    "np.random.seed(123)"
   ]
  },
  {
   "cell_type": "code",
   "execution_count": 2,
   "id": "351bc4f0",
   "metadata": {},
   "outputs": [],
   "source": [
    "dataset = 'synthetic'"
   ]
  },
  {
   "cell_type": "code",
   "execution_count": 3,
   "id": "a1203141",
   "metadata": {},
   "outputs": [],
   "source": [
    "# --- Load dataset ---\n",
    "df = pd.read_csv(f\"../data/{dataset}.csv\")\n",
    "feature_cols = [c for c in df.columns if c not in [\"subset\", \"y\"]]\n",
    "\n",
    "# Scale features\n",
    "feature_scaler = StandardScaler()\n",
    "df[feature_cols] = feature_scaler.fit_transform(df[feature_cols])\n",
    "\n",
    "# Scale target\n",
    "target_scaler = StandardScaler()\n",
    "df[\"y\"] = target_scaler.fit_transform(df[[\"y\"]])"
   ]
  },
  {
   "cell_type": "code",
   "execution_count": 4,
   "id": "5d886800",
   "metadata": {},
   "outputs": [],
   "source": [
    "# --- Model dictionary ---\n",
    "def featureless_model(X_train, X_test, y_train, y_test):\n",
    "    y_pred = np.repeat(y_train.mean(), len(y_test))\n",
    "    mse = mean_squared_error(y_test, y_pred)\n",
    "    mae = mean_absolute_error(y_test, y_pred)\n",
    "    return mse, mae\n",
    "\n",
    "def cv_gam_model(X_train, X_test, y_train, y_test):\n",
    "    pipeline = Pipeline([\n",
    "        ('poly', PolynomialFeatures()),\n",
    "        ('scaler', StandardScaler()),\n",
    "        ('lasso', LassoCV(cv=4, n_jobs=-1))\n",
    "    ])\n",
    "    pipeline.fit(X_train, y_train)\n",
    "    y_pred = pipeline.predict(X_test)\n",
    "    return mean_squared_error(y_test, y_pred), mean_absolute_error(y_test, y_pred)\n",
    "\n",
    "model_dict = {\n",
    "    \"featureless\": featureless_model,\n",
    "    \"cv_gam\": cv_gam_model\n",
    "}"
   ]
  },
  {
   "cell_type": "code",
   "execution_count": 5,
   "id": "61d1a98b",
   "metadata": {},
   "outputs": [],
   "source": [
    "# --- record results ---\n",
    "results = []\n",
    "\n",
    "for subset in np.unique(df[\"subset\"]):\n",
    "    subset_idx = np.where(df[\"subset\"] == subset)[0]\n",
    "    kf = KFold(n_splits = 5)\n",
    "    for fold, (train_idx, test_idx) in enumerate(kf.split(subset_idx)):\n",
    "        test_indices = subset_idx[test_idx]\n",
    "        same_indices = subset_idx[train_idx]\n",
    "        other_indices = np.where(df[\"subset\"] != subset)[0]\n",
    "        all_indices = np.concatenate([same_indices, other_indices])\n",
    "        \n",
    "        train_dict = {\n",
    "            \"same\":  same_indices,\n",
    "            \"other\": other_indices,\n",
    "            \"all\":   all_indices\n",
    "        }\n",
    "        \n",
    "        for category, train_indices in train_dict.items():\n",
    "            for model in list(model_dict.keys()):\n",
    "                mse, mae = model_dict[model](\n",
    "                    X_train = df[feature_cols].values[train_indices],\n",
    "                    X_test  = df[feature_cols].values[test_indices],\n",
    "                    y_train = df[\"y\"].values[train_indices],\n",
    "                    y_test  = df[\"y\"].values[test_indices]\n",
    "                )\n",
    "                \n",
    "                results.append({\n",
    "                    \"subset\":    subset,\n",
    "                    \"category\":  category,\n",
    "                    \"test_fold\": fold + 1,\n",
    "                    \"model\":     model,\n",
    "                    \"mse\":       mse,\n",
    "                    \"mae\":       mae\n",
    "                })\n",
    "\n",
    "results_df = pd.DataFrame(results)\n",
    "results_df.to_csv(f\"../results/{dataset}.csv\", index=False)"
   ]
  }
 ],
 "metadata": {
  "kernelspec": {
   "display_name": ".venv",
   "language": "python",
   "name": "python3"
  },
  "language_info": {
   "codemirror_mode": {
    "name": "ipython",
    "version": 3
   },
   "file_extension": ".py",
   "mimetype": "text/x-python",
   "name": "python",
   "nbconvert_exporter": "python",
   "pygments_lexer": "ipython3",
   "version": "3.12.3"
  }
 },
 "nbformat": 4,
 "nbformat_minor": 5
}
