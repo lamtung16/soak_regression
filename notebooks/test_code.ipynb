{
 "cells": [
  {
   "cell_type": "code",
   "execution_count": 1,
   "id": "914bd379",
   "metadata": {},
   "outputs": [],
   "source": [
    "import pandas as pd\n",
    "import numpy as np\n",
    "from sklearn.metrics import mean_squared_error, mean_absolute_error\n",
    "from sklearn.preprocessing import FunctionTransformer, PolynomialFeatures, StandardScaler\n",
    "from sklearn.linear_model import Lasso\n",
    "from sklearn.model_selection import GridSearchCV\n",
    "from sklearn.pipeline import Pipeline\n",
    "from sklearn.model_selection import KFold\n",
    "\n",
    "np.random.seed(123)"
   ]
  },
  {
   "cell_type": "code",
   "execution_count": 2,
   "id": "c7475b6a",
   "metadata": {},
   "outputs": [],
   "source": [
    "# --- Load dataset ---\n",
    "dataset = 'test'\n",
    "df = pd.read_csv(f\"../data/{dataset}.csv\")\n",
    "feature_cols = [c for c in df.columns if c not in [\"subset\", \"y\"]]"
   ]
  },
  {
   "cell_type": "code",
   "execution_count": 3,
   "id": "8ded4e86",
   "metadata": {},
   "outputs": [],
   "source": [
    "# --- Model dictionary ---\n",
    "def featureless_model(X_train, X_test, y_train, y_test):\n",
    "    y_pred = np.repeat(y_train.mean(), len(y_test))\n",
    "    mse = mean_squared_error(y_test, y_pred)\n",
    "    mae = mean_absolute_error(y_test, y_pred)\n",
    "    return mse, mae\n",
    "\n",
    "\n",
    "def cv_gam_model(X_train, X_test, y_train, y_test):\n",
    "    # Function to add exponential features\n",
    "    def add_exponential_features(X):\n",
    "        return np.hstack([X, np.exp(X)])\n",
    "    \n",
    "    pipeline = Pipeline([\n",
    "        ('poly', PolynomialFeatures()),\n",
    "        ('exp', FunctionTransformer(add_exponential_features)),\n",
    "        ('scaler', StandardScaler()),\n",
    "        ('lasso', Lasso(max_iter=10000))\n",
    "    ])\n",
    "\n",
    "    # Grid search for best L1 alpha\n",
    "    param_grid = {'lasso__alpha': [0.01 * (1.2 ** i) for i in range(10)]}\n",
    "    grid = GridSearchCV(pipeline, param_grid, cv=5, scoring='neg_mean_squared_error')\n",
    "    grid.fit(X_train, y_train)\n",
    "\n",
    "    # Predictions\n",
    "    y_pred = grid.predict(X_test)\n",
    "    mse = mean_squared_error(y_test, y_pred)\n",
    "    mae = mean_absolute_error(y_test, y_pred)\n",
    "    return mse, mae\n",
    "\n",
    "\n",
    "model_dict = {\n",
    "    \"featureless\": featureless_model,\n",
    "    \"cv_gam\": cv_gam_model\n",
    "}"
   ]
  },
  {
   "cell_type": "code",
   "execution_count": 4,
   "id": "fdb2bf25",
   "metadata": {},
   "outputs": [
    {
     "name": "stdout",
     "output_type": "stream",
     "text": [
      "test size: 100 - same size: 400 - other size: 500 - all size: 900\n",
      "test size: 100 - same size: 400 - other size: 500 - all size: 900\n",
      "test size: 100 - same size: 400 - other size: 500 - all size: 900\n",
      "test size: 100 - same size: 400 - other size: 500 - all size: 900\n",
      "test size: 100 - same size: 400 - other size: 500 - all size: 900\n",
      "test size: 100 - same size: 400 - other size: 500 - all size: 900\n",
      "test size: 100 - same size: 400 - other size: 500 - all size: 900\n",
      "test size: 100 - same size: 400 - other size: 500 - all size: 900\n",
      "test size: 100 - same size: 400 - other size: 500 - all size: 900\n",
      "test size: 100 - same size: 400 - other size: 500 - all size: 900\n"
     ]
    }
   ],
   "source": [
    "results = []\n",
    "\n",
    "for subset in np.unique(df[\"subset\"]):\n",
    "    subset_idx = np.where(df[\"subset\"] == subset)[0]\n",
    "    kf = KFold(n_splits=5)\n",
    "    for fold, (train_idx, test_idx) in enumerate(kf.split(subset_idx)):\n",
    "        test_indices = subset_idx[test_idx]\n",
    "        same_indices = subset_idx[train_idx]\n",
    "        other_indices = np.where(df[\"subset\"] != subset)[0]\n",
    "        all_indices = np.concatenate([same_indices, other_indices])\n",
    "\n",
    "        print(f\"test size: {len(test_idx)} - same size: {len(train_idx)} - other size: {len(other_indices)} - all size: {len(all_indices)}\")\n",
    "        \n",
    "        train_dict = {\n",
    "            \"same\": same_indices,\n",
    "            \"other\": other_indices,\n",
    "            \"all\": all_indices\n",
    "        }\n",
    "        \n",
    "        for category, train_indices in train_dict.items():\n",
    "            for model in [\"featureless\", \"cv_gam\"]:\n",
    "                mse, mae = model_dict[model](\n",
    "                    X_train = df[feature_cols].values[train_indices],\n",
    "                    X_test  = df[feature_cols].values[test_indices],\n",
    "                    y_train = df[\"y\"].values[train_indices],\n",
    "                    y_test  = df[\"y\"].values[test_indices])\n",
    "                \n",
    "                results.append({\n",
    "                    \"subset\": subset,\n",
    "                    \"category\": category,\n",
    "                    \"test_fold\": fold + 1,\n",
    "                    \"model\": model,\n",
    "                    \"mse\": mse,\n",
    "                    \"mae\": mae\n",
    "                })"
   ]
  },
  {
   "cell_type": "code",
   "execution_count": 5,
   "id": "bbd9857c",
   "metadata": {},
   "outputs": [],
   "source": [
    "# Save results\n",
    "results_df = pd.DataFrame(results)\n",
    "results_df.to_csv(f\"../results/{dataset}.csv\", index=False)"
   ]
  }
 ],
 "metadata": {
  "kernelspec": {
   "display_name": ".venv",
   "language": "python",
   "name": "python3"
  },
  "language_info": {
   "codemirror_mode": {
    "name": "ipython",
    "version": 3
   },
   "file_extension": ".py",
   "mimetype": "text/x-python",
   "name": "python",
   "nbconvert_exporter": "python",
   "pygments_lexer": "ipython3",
   "version": "3.12.3"
  }
 },
 "nbformat": 4,
 "nbformat_minor": 5
}
